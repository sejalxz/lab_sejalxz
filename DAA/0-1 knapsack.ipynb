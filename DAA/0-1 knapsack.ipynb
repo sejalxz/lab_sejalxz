{
 "cells": [
  {
   "cell_type": "markdown",
   "id": "760d9ecb",
   "metadata": {},
   "source": [
    "## Assignment No 4\n",
    "\n",
    "Write a program to solve a 0-1 Knapsack problem using dynamic programming or branch and bound strategy."
   ]
  },
  {
   "cell_type": "markdown",
   "id": "52a9e021",
   "metadata": {},
   "source": [
    "Time Complexity: O(N*capacity). \n",
    "\n",
    "As redundant calculations of states are avoided.where ‘N’ is the number of weight element and ‘W’ is capacity. As for every weight element we traverse through all weight capacities 1<=w<=W.\n",
    "\n",
    "Space: Aux -> O(N*W) + Rec -> O(N). \n",
    "\n",
    "The use of 2D array data structure for storing intermediate states and O(N) auxiliary stack space(ASS) has been used for recursion stack:"
   ]
  },
  {
   "cell_type": "code",
   "execution_count": 1,
   "id": "83be6c55",
   "metadata": {},
   "outputs": [],
   "source": [
    "# This is the memoization approach of\n",
    "# 0 / 1 Knapsack in Python in simple\n",
    "# we can say recursion + memoization = DP"
   ]
  },
  {
   "cell_type": "code",
   "execution_count": 20,
   "id": "155996af",
   "metadata": {},
   "outputs": [
    {
     "data": {
      "text/plain": [
       "int"
      ]
     },
     "execution_count": 20,
     "metadata": {},
     "output_type": "execute_result"
    }
   ],
   "source": [
    "import sys\n",
    "maxVal = sys.maxsize\n",
    "minVal = -sys.maxsize - 1\n",
    "\n",
    "type(minVal)"
   ]
  },
  {
   "cell_type": "code",
   "execution_count": 33,
   "id": "78b62937",
   "metadata": {},
   "outputs": [
    {
     "name": "stdout",
     "output_type": "stream",
     "text": [
      "3\n",
      "Enter Weights : \n",
      "10\n",
      "20\n",
      "30\n",
      "Enter Values : \n",
      "60\n",
      "100\n",
      "40\n",
      "Enter Capacity :\n",
      "50\n",
      "Maximum Value 160\n"
     ]
    }
   ],
   "source": [
    "import sys\n",
    "maxVal = sys.maxsize\n",
    "minVal = -sys.maxsize - 1\n",
    "  \n",
    "def max(x,y):\n",
    "    if(x > y):\n",
    "        return x\n",
    "    return y\n",
    "        \n",
    "def knapsackUtil(ci, n,wt,val,cap,dp) :\n",
    "    \n",
    "    if ci == n or cap == 0:\n",
    "        return 0\n",
    "    \n",
    "    if dp[ci][cap] != -1:\n",
    "        return dp[ci][cap]\n",
    "    \n",
    "    con = minVal\n",
    "    \n",
    "    if(wt[ci] <= cap):\n",
    "        con = val[ci] + knapsackUtil(ci+1, n, wt,val,cap - wt[ci], dp)\n",
    "        \n",
    "    notCon = knapsackUtil(ci+1, n,wt,val,cap,dp)\n",
    "    \n",
    "    dp[ci][cap] = max(con, notCon)\n",
    "    \n",
    "    return dp[ci][cap]\n",
    "    \n",
    "\n",
    "def knapsack():\n",
    "    n = int(input())\n",
    "    print(\"Enter Weights : \")\n",
    "    wt = []\n",
    "    for i in range(0,n):\n",
    "        x = int(input())\n",
    "        wt.append(x)\n",
    "        \n",
    "    print(\"Enter Values : \")\n",
    "    val = []\n",
    "    for i in range(0, n):\n",
    "        x = int(input())\n",
    "        val.append(x)\n",
    "        \n",
    "    print(\"Enter Capacity :\")\n",
    "    cap = int(input())\n",
    "    \n",
    "    dp=[[-1 for i in range(cap + 1)] for j in range(n+1)]\n",
    "    \n",
    "#     dp = [[-1 for i in range(cap + 1)] for j in range (n+1)]\n",
    "    \n",
    "#     ans = knapsack_util2(wt,val,capacity,n,dp)\n",
    "    ans = knapsackUtil(0, n,wt,val,cap,dp)\n",
    "    print(\"Maximum Value\", ans)\n",
    "        \n",
    "    \n",
    "knapsack()\n",
    "    "
   ]
  },
  {
   "cell_type": "code",
   "execution_count": null,
   "id": "1ae1e308",
   "metadata": {},
   "outputs": [],
   "source": []
  }
 ],
 "metadata": {
  "kernelspec": {
   "display_name": "Python 3 (ipykernel)",
   "language": "python",
   "name": "python3"
  },
  "language_info": {
   "codemirror_mode": {
    "name": "ipython",
    "version": 3
   },
   "file_extension": ".py",
   "mimetype": "text/x-python",
   "name": "python",
   "nbconvert_exporter": "python",
   "pygments_lexer": "ipython3",
   "version": "3.10.6"
  }
 },
 "nbformat": 4,
 "nbformat_minor": 5
}
