{
 "cells": [
  {
   "cell_type": "markdown",
   "id": "ec6ce67a",
   "metadata": {},
   "source": [
    "## Assignment No 1\n",
    "Write a program non-recursive and recursive program to calculate Fibonacci numbers and analyze their time and space complexity."
   ]
  },
  {
   "cell_type": "code",
   "execution_count": 2,
   "id": "5cf342d1",
   "metadata": {},
   "outputs": [
    {
     "name": "stdout",
     "output_type": "stream",
     "text": [
      "9\n",
      "34\n"
     ]
    }
   ],
   "source": [
    "def fibo(n):\n",
    "    if(n <= 1):\n",
    "        return n\n",
    "    \n",
    "    return fibo(n-1) + fibo(n-2)\n",
    "\n",
    "if __name__ == \"__main__\":\n",
    "    n = int(input())\n",
    "    print(fibo(n))"
   ]
  },
  {
   "cell_type": "code",
   "execution_count": 3,
   "id": "339e7283",
   "metadata": {},
   "outputs": [],
   "source": [
    "#TC : O(2^N), Recursive 2 calls\n",
    "#SC : Recursive Stack - O(N), Auxillary Stack - O(1) = O(N)\n"
   ]
  },
  {
   "cell_type": "code",
   "execution_count": 8,
   "id": "323aa0aa",
   "metadata": {},
   "outputs": [
    {
     "name": "stdout",
     "output_type": "stream",
     "text": [
      "9\n",
      "9 th fibonnaci number is : 34\n"
     ]
    }
   ],
   "source": [
    "def fibo_recursive(n):\n",
    "    fibo = [0,1]\n",
    "    \n",
    "    for i in range(2, n+1):\n",
    "        fibo.append(fibo[i-1] + fibo[i-2])\n",
    "        \n",
    "    return fibo[n]\n",
    "\n",
    "if __name__ == \"__main__\":\n",
    "    n = int(input())\n",
    "    print(n,\"th fibonnaci number is :\", fibo_recursive(n))      "
   ]
  },
  {
   "cell_type": "code",
   "execution_count": 6,
   "id": "ede6dec2",
   "metadata": {},
   "outputs": [],
   "source": [
    "#TC : O(N)\n",
    "#SC : O(N)"
   ]
  },
  {
   "cell_type": "code",
   "execution_count": null,
   "id": "c7114b02",
   "metadata": {},
   "outputs": [],
   "source": [
    "#P class problem "
   ]
  }
 ],
 "metadata": {
  "kernelspec": {
   "display_name": "Python 3 (ipykernel)",
   "language": "python",
   "name": "python3"
  },
  "language_info": {
   "codemirror_mode": {
    "name": "ipython",
    "version": 3
   },
   "file_extension": ".py",
   "mimetype": "text/x-python",
   "name": "python",
   "nbconvert_exporter": "python",
   "pygments_lexer": "ipython3",
   "version": "3.10.6"
  }
 },
 "nbformat": 4,
 "nbformat_minor": 5
}
