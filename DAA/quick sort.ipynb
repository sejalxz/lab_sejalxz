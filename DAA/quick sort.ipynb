{
 "cells": [
  {
   "cell_type": "markdown",
   "id": "365e4791",
   "metadata": {},
   "source": [
    "\n",
    "## Assignment No 6\n",
    "Write a program for analysis of quick sort by using deterministic and randomized variant."
   ]
  },
  {
   "cell_type": "code",
   "execution_count": null,
   "id": "db95f40e",
   "metadata": {},
   "outputs": [],
   "source": []
  },
  {
   "cell_type": "code",
   "execution_count": 2,
   "id": "0838a741",
   "metadata": {},
   "outputs": [
    {
     "name": "stdout",
     "output_type": "stream",
     "text": [
      "Unsorted :  [10, 80, 30, 90, 40, 50, 70]\n",
      "Sorted :  [10, 30, 40, 50, 70, 80, 90]\n"
     ]
    }
   ],
   "source": [
    "#Deterministic \n",
    "# TC Worst : O(N^2)\n",
    "\n",
    "\n",
    "def partition(A,low,high):\n",
    "    i = low - 1\n",
    "    pivot = A[high]\n",
    "    for j in range(low, high):\n",
    "        if(A[j] <= pivot):\n",
    "            i = i+1\n",
    "            A[j], A[i] = A[i], A[j]\n",
    "        \n",
    "    A[i+1],A[high] = A[high], A[i+1]\n",
    "    \n",
    "    return i+1\n",
    "\n",
    "def QuickSort(A, low, high):\n",
    "    if low < high:\n",
    "        \n",
    "        p = partition(A, low, high)\n",
    "        \n",
    "        QuickSort(A, low, p-1)\n",
    "        QuickSort(A, p+1, high)\n",
    "        \n",
    "\n",
    "data = [ 10,80, 30, 90, 40,50,70]\n",
    "print(\"Unsorted : \", data)\n",
    "QuickSort(data,0,len(data)-1)\n",
    "print(\"Sorted : \", data)"
   ]
  },
  {
   "cell_type": "code",
   "execution_count": null,
   "id": "a8fe1e07",
   "metadata": {},
   "outputs": [],
   "source": []
  },
  {
   "cell_type": "code",
   "execution_count": 11,
   "id": "c3d258be",
   "metadata": {},
   "outputs": [
    {
     "name": "stdout",
     "output_type": "stream",
     "text": [
      "4\n"
     ]
    }
   ],
   "source": [
    "#Randomized\n",
    "\n",
    "import random\n",
    "print(random.randrange(0,5))"
   ]
  },
  {
   "cell_type": "code",
   "execution_count": 13,
   "id": "c1a7df29",
   "metadata": {},
   "outputs": [
    {
     "name": "stdout",
     "output_type": "stream",
     "text": [
      "Unsorted :  [10, 80, 30, 90, 40, 50, 70]\n",
      "Sorted :  [10, 30, 40, 50, 70, 80, 90]\n"
     ]
    }
   ],
   "source": [
    "# TC : Worst : O(NlogN)\n",
    "# SC : Worst : O(N), Avg : O(log N)\n",
    "\n",
    "def part_rand(A, low, high):\n",
    "    rand_piv = random.randrange(low,high)\n",
    "    A[rand_piv], A[high] = A[high], A[rand_piv]\n",
    "    \n",
    "    return partition(A,low,high)\n",
    "\n",
    "def partition(A, low, high):\n",
    "    \n",
    "    pivot = A[high]\n",
    "    i = low - 1\n",
    "    \n",
    "    for j in range(low, high):\n",
    "        if(A[j] <= pivot):\n",
    "            i = i+1\n",
    "            A[j],A[i] = A[i], A[j]\n",
    "            \n",
    "    A[i+1], A[high] = A[high], A[i+1]\n",
    "    \n",
    "    return i+1\n",
    "\n",
    "def QuickSort(A, low, high):\n",
    "    \n",
    "    if low < high:\n",
    "        \n",
    "        pi = partition_rand(A,low,high)\n",
    "        QuickSort(A,0,pi-1)\n",
    "        QuickSort(A, pi+1, high)\n",
    "        \n",
    "data = [ 10,80, 30, 90, 40,50,70]\n",
    "print(\"Unsorted : \", data)\n",
    "QuickSort(data,0,len(data)-1)\n",
    "print(\"Sorted : \", data)"
   ]
  },
  {
   "cell_type": "code",
   "execution_count": null,
   "id": "3500f1f3",
   "metadata": {},
   "outputs": [],
   "source": []
  }
 ],
 "metadata": {
  "kernelspec": {
   "display_name": "Python 3 (ipykernel)",
   "language": "python",
   "name": "python3"
  },
  "language_info": {
   "codemirror_mode": {
    "name": "ipython",
    "version": 3
   },
   "file_extension": ".py",
   "mimetype": "text/x-python",
   "name": "python",
   "nbconvert_exporter": "python",
   "pygments_lexer": "ipython3",
   "version": "3.10.6"
  }
 },
 "nbformat": 4,
 "nbformat_minor": 5
}
